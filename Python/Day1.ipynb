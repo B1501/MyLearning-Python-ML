{
 "cells": [
  {
   "cell_type": "markdown",
   "metadata": {},
   "source": [
    "# "
   ]
  },
  {
   "cell_type": "markdown",
   "metadata": {},
   "source": [
    "# Basics of Python"
   ]
  },
  {
   "cell_type": "code",
   "execution_count": 1,
   "metadata": {},
   "outputs": [
    {
     "name": "stdout",
     "output_type": "stream",
     "text": [
      "You are Awesome\n"
     ]
    }
   ],
   "source": [
    "print('You are Awesome')"
   ]
  },
  {
   "cell_type": "code",
   "execution_count": 3,
   "metadata": {},
   "outputs": [
    {
     "name": "stdout",
     "output_type": "stream",
     "text": [
      "11.4\n",
      "haha\n"
     ]
    }
   ],
   "source": [
    "a=5\n",
    "b=6.4\n",
    "print(a+b)\n",
    "print('haha')"
   ]
  },
  {
   "cell_type": "code",
   "execution_count": 5,
   "metadata": {},
   "outputs": [
    {
     "name": "stdout",
     "output_type": "stream",
     "text": [
      "0\n",
      "1\n",
      "2\n",
      "3\n",
      "4\n",
      "5\n",
      "6\n",
      "7\n",
      "8\n",
      "9\n",
      "10\n",
      "11\n"
     ]
    }
   ],
   "source": [
    "for i in range(12):\n",
    "  print(i)"
   ]
  },
  {
   "cell_type": "code",
   "execution_count": 8,
   "metadata": {},
   "outputs": [
    {
     "name": "stdout",
     "output_type": "stream",
     "text": [
      "Hey,I was doing just fine before i met you i think too much and thats an issue but i am okay!\n",
      "<class 'str'>\n"
     ]
    }
   ],
   "source": [
    "print(\"Hey,I was doing just fine before i met you i think too much and thats an issue but i am okay!\")\n",
    "print(type(\"Hey\"))"
   ]
  },
  {
   "cell_type": "code",
   "execution_count": 14,
   "metadata": {},
   "outputs": [
    {
     "name": "stdout",
     "output_type": "stream",
     "text": [
      "5\n",
      "1\n",
      "1.5\n",
      "6\n",
      "1\n",
      "1.5\n"
     ]
    }
   ],
   "source": [
    "print(3+2)\n",
    "print(3-2),print(3/2)\n",
    "print(3*2)\n",
    "print(3%2)\n",
    "print(3/2)\n"
   ]
  },
  {
   "cell_type": "code",
   "execution_count": 1,
   "metadata": {},
   "outputs": [
    {
     "name": "stdout",
     "output_type": "stream",
     "text": [
      "[1, 6, 2, 4.4, 6.4]\n",
      "<class 'list'>\n"
     ]
    }
   ],
   "source": [
    "\n",
    "list=[1,6,2,4.4,6.4]\n",
    "print(list)\n",
    "print(type(list))\n"
   ]
  },
  {
   "cell_type": "code",
   "execution_count": 22,
   "metadata": {
    "scrolled": true
   },
   "outputs": [
    {
     "data": {
      "text/plain": [
       "25"
      ]
     },
     "execution_count": 22,
     "metadata": {},
     "output_type": "execute_result"
    }
   ],
   "source": [
    "list[-1]"
   ]
  },
  {
   "cell_type": "code",
   "execution_count": 23,
   "metadata": {},
   "outputs": [
    {
     "data": {
      "text/plain": [
       "[1, 1, 2, 4.4, 6.4, 6, 8, 2, 836, 235, 'krithik', 25]"
      ]
     },
     "execution_count": 23,
     "metadata": {},
     "output_type": "execute_result"
    }
   ],
   "source": [
    "list"
   ]
  },
  {
   "cell_type": "code",
   "execution_count": 24,
   "metadata": {},
   "outputs": [
    {
     "name": "stdout",
     "output_type": "stream",
     "text": [
      "1.5\n"
     ]
    }
   ],
   "source": [
    "print(3/2)"
   ]
  },
  {
   "cell_type": "code",
   "execution_count": 25,
   "metadata": {},
   "outputs": [],
   "source": [
    "list1=[3.4,5,6,26,7,'krithika',204]\n",
    "list[2]=list1"
   ]
  },
  {
   "cell_type": "code",
   "execution_count": 26,
   "metadata": {},
   "outputs": [
    {
     "name": "stdout",
     "output_type": "stream",
     "text": [
      "[1, 1, [3.4, 5, 6, 26, 7, 'krithika', 204], 4.4, 6.4, 6, 8, 2, 836, 235, 'krithik', 25]\n"
     ]
    }
   ],
   "source": [
    "print(list)"
   ]
  },
  {
   "cell_type": "code",
   "execution_count": 32,
   "metadata": {},
   "outputs": [
    {
     "name": "stdout",
     "output_type": "stream",
     "text": [
      "1\n",
      "<class 'int'>\n",
      "1\n",
      "<class 'int'>\n",
      "[3.4, 5, 6, 26, 7, 'krithika', 204]\n",
      "<class 'list'>\n",
      "4.4\n",
      "<class 'float'>\n",
      "6.4\n",
      "<class 'float'>\n",
      "6\n",
      "<class 'int'>\n",
      "8\n",
      "<class 'int'>\n",
      "2\n",
      "<class 'int'>\n",
      "836\n",
      "<class 'int'>\n",
      "235\n",
      "<class 'int'>\n",
      "krithik\n",
      "<class 'str'>\n",
      "25\n",
      "<class 'int'>\n"
     ]
    }
   ],
   "source": [
    "for i in range(len(list)):\n",
    "    print(list[i])\n",
    "    print(type(list[i]))"
   ]
  },
  {
   "cell_type": "code",
   "execution_count": 79,
   "metadata": {},
   "outputs": [
    {
     "name": "stdout",
     "output_type": "stream",
     "text": [
      "strstr2\n"
     ]
    }
   ],
   "source": [
    "a='str'\n",
    "b='str2'\n",
    "print(a+b)"
   ]
  },
  {
   "cell_type": "markdown",
   "metadata": {},
   "source": [
    "# appending\n"
   ]
  },
  {
   "cell_type": "code",
   "execution_count": 2,
   "metadata": {},
   "outputs": [
    {
     "name": "stdout",
     "output_type": "stream",
     "text": [
      "5\n",
      "[1, 6, 2, 4.4, 6.4]\n",
      "6\n",
      "[1, 6, 2, 5, 6.4, 3]\n"
     ]
    }
   ],
   "source": [
    "print(len(list))\n",
    "print(list)\n",
    "list.append(3)\n",
    "list[3]=5\n",
    "print(len(list))\n",
    "print(list)"
   ]
  },
  {
   "cell_type": "code",
   "execution_count": 87,
   "metadata": {},
   "outputs": [
    {
     "name": "stdout",
     "output_type": "stream",
     "text": [
      "[1, 3, 5, 7, 9]\n",
      "[1, 2, 3, 4, 5, 6, 7, 8, 9, 10]\n",
      "[4]\n",
      "[1, 2, 3, 4, 5]\n",
      "[2, 3, 4, 5]\n",
      "[1, 3, 5, 7, 9]\n",
      "[2, 4, 6, 8, 10]\n",
      "[1, 4, 7, 10]\n",
      "[4, 5, 6, 7, 8, 9, 10]\n"
     ]
    }
   ],
   "source": [
    "list1=[1,2,3,4,5,6,7,8,9,10]\n",
    "print(list1[0:10:2]),print(list1)\n",
    "print(list1[3:4])#it will slice the given list\n",
    "print(list1[0:5])\n",
    "print(list1[1:5])\n",
    "\n",
    "print(list1[0:10:2])#:2 gives the step value of the slice\n",
    "print(list1[1:10:2])\n",
    "\n",
    "print(list1[:10:3])#takes first index as 0\n",
    "print(list1[3:])#take the last index as len(list1)"
   ]
  },
  {
   "cell_type": "code",
   "execution_count": 72,
   "metadata": {},
   "outputs": [
    {
     "data": {
      "text/plain": [
       "[7, 8, 9, 10]"
      ]
     },
     "execution_count": 72,
     "metadata": {},
     "output_type": "execute_result"
    }
   ],
   "source": [
    "list1[-4:]"
   ]
  },
  {
   "cell_type": "code",
   "execution_count": 73,
   "metadata": {},
   "outputs": [
    {
     "data": {
      "text/plain": [
       "[7, 9]"
      ]
     },
     "execution_count": 73,
     "metadata": {},
     "output_type": "execute_result"
    }
   ],
   "source": [
    "list1[-4::2]"
   ]
  },
  {
   "cell_type": "code",
   "execution_count": 91,
   "metadata": {},
   "outputs": [
    {
     "data": {
      "text/plain": [
       "[1, 2, 3, 'a', 4, 5, 6, 7, 8, 9, 10]"
      ]
     },
     "execution_count": 91,
     "metadata": {},
     "output_type": "execute_result"
    }
   ],
   "source": [
    "list1[:-1]"
   ]
  },
  {
   "cell_type": "markdown",
   "metadata": {},
   "source": [
    "# .Insert,.replace,.remove keyword"
   ]
  },
  {
   "cell_type": "code",
   "execution_count": 118,
   "metadata": {
    "collapsed": true
   },
   "outputs": [
    {
     "name": "stdout",
     "output_type": "stream",
     "text": [
      "[1, 'a', 'a', 'a', 'a', 'b', 'b', 'b', 4, 5, 6, 7, 8, 9, 10, 'b']\n",
      "[1, 'a', 'a', 'a', 'a', 'b', 'b', 'b', 4, 6, 7, 8, 9, 10, 'b']\n"
     ]
    }
   ],
   "source": [
    "ahaa='a'\n",
    "list1.insert(3,ahaa)#it insert the value before the given index(here it is 3) so it inserts at index 2\n",
    "print(list1)\n",
    "list1.remove(list[3])\n",
    "print(list1)"
   ]
  },
  {
   "cell_type": "code",
   "execution_count": 119,
   "metadata": {},
   "outputs": [],
   "source": [
    "list1.insert(5,ahaa)"
   ]
  },
  {
   "cell_type": "code",
   "execution_count": 120,
   "metadata": {},
   "outputs": [
    {
     "name": "stdout",
     "output_type": "stream",
     "text": [
      "[1, 'b', 'b', 'b', 'b', 'b', 'b', 'b', 'b', 4, 6, 7, 8, 9, 10, 'b']\n"
     ]
    }
   ],
   "source": [
    "# REPLACE\n",
    "SearchElement='a'\n",
    "ReplaceElement='b'\n",
    "for i in range(len(list1)):\n",
    "    if(list1[i]==SearchElement):\n",
    "        list1[i]=ReplaceElement\n",
    "print(list1)\n",
    "    "
   ]
  },
  {
   "cell_type": "markdown",
   "metadata": {},
   "source": [
    "# SORT"
   ]
  },
  {
   "cell_type": "code",
   "execution_count": 121,
   "metadata": {},
   "outputs": [
    {
     "name": "stdout",
     "output_type": "stream",
     "text": [
      "[1, 2, 2, 2, 7, 13, 34, 35, 43, 57, 67, 486, 635, 21314]\n",
      "[21314, 635, 486, 67, 57, 43, 35, 34, 13, 7, 2, 2, 2, 1]\n"
     ]
    }
   ],
   "source": [
    "list2=[13,43,635,21314,1,34,7,57,2,486,2,35,67,2]\n",
    "list2.sort()\n",
    "print(list2)\n",
    "#DESCENDING\n",
    "list2.sort(reverse=True)\n",
    "print(list2)"
   ]
  },
  {
   "cell_type": "markdown",
   "metadata": {},
   "source": []
  },
  {
   "cell_type": "code",
   "execution_count": null,
   "metadata": {},
   "outputs": [],
   "source": []
  }
 ],
 "metadata": {
  "kernelspec": {
   "display_name": "Python 3",
   "language": "python",
   "name": "python3"
  },
  "language_info": {
   "codemirror_mode": {
    "name": "ipython",
    "version": 3
   },
   "file_extension": ".py",
   "mimetype": "text/x-python",
   "name": "python",
   "nbconvert_exporter": "python",
   "pygments_lexer": "ipython3",
   "version": "3.7.3"
  }
 },
 "nbformat": 4,
 "nbformat_minor": 2
}
