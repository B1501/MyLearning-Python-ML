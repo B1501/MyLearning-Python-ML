{
 "cells": [
  {
   "cell_type": "markdown",
   "metadata": {},
   "source": [
    "# LA1 Simple and Compound Interest"
   ]
  },
  {
   "cell_type": "code",
   "execution_count": 9,
   "metadata": {},
   "outputs": [
    {
     "name": "stdout",
     "output_type": "stream",
     "text": [
      "enter principle1000\n",
      "enter rate3\n",
      "time4\n",
      "Compound interest is 1125.50881\n",
      "simple interest is 120.0\n"
     ]
    }
   ],
   "source": [
    "p=float(input('enter principle'))\n",
    "r=float(input('enter rate'))\n",
    "t=float(input('time'))\n",
    "ci = p * (pow((1 + r / 100), t))\n",
    "print('Compound interest is',ci)\n",
    "si=(p*r*t)/100\n",
    "print('simple interest is',si)"
   ]
  },
  {
   "cell_type": "code",
   "execution_count": 10,
   "metadata": {},
   "outputs": [
    {
     "name": "stdout",
     "output_type": "stream",
     "text": [
      "enter no.of instalments4\n",
      "interest needed to be paid at 1 installment= 120.0\n",
      "interest needed to be paid at 2 installment= 90.0\n",
      "interest needed to be paid at 3 installment= 60.0\n",
      "interest needed to be paid at 4 installment= 30.0\n"
     ]
    }
   ],
   "source": [
    "inst=int(input('enter no.of instalments'))\n",
    "for i in range(inst):\n",
    "    si=(p*r*(t-i))/100\n",
    "    print('interest needed to be paid at',i+1,'installment=',si)"
   ]
  },
  {
   "cell_type": "markdown",
   "metadata": {},
   "source": [
    "# LA2 String number validation"
   ]
  },
  {
   "cell_type": "code",
   "execution_count": 4,
   "metadata": {},
   "outputs": [
    {
     "name": "stdout",
     "output_type": "stream",
     "text": [
      "enter sequence of number123456\n",
      "Enter a number4\n",
      "given sequence is even\n",
      "not validated\n"
     ]
    }
   ],
   "source": [
    "n=input('enter sequence of number')\n",
    "n1=int(input('Enter a number'))\n",
    "m=len(n)\n",
    "if(m%2!=0):\n",
    "    mid=int((m+1)/2)\n",
    "else:\n",
    "    print('given sequence is even')\n",
    "    mid=0\n",
    "if(str(n1)==str(n[mid-1])):\n",
    "    print('validated')\n",
    "else:\n",
    "    print('not validated')"
   ]
  },
  {
   "cell_type": "markdown",
   "metadata": {},
   "source": [
    "# LA3 List Manipulation"
   ]
  },
  {
   "cell_type": "code",
   "execution_count": 2,
   "metadata": {},
   "outputs": [
    {
     "name": "stdout",
     "output_type": "stream",
     "text": [
      "[1, 2, 3, 4, 5, 6, 7, 8]\n",
      "1 8\n",
      "[2, 3, 4, 5, 6, 7]\n",
      "2 7\n",
      "[3, 4, 5, 6]\n",
      "3 6\n",
      "[4, 5]\n",
      "4 5\n",
      "[]\n"
     ]
    }
   ],
   "source": [
    "a=[1,2,3,4,5,6,7,8]\n",
    "print(a)\n",
    "def function():\n",
    "    m=len(a)-1\n",
    "    print(a[0],a[m])\n",
    "    a.pop(m)\n",
    "    a.pop(0)\n",
    "    print(a)\n",
    "    if(len(a)>=2):\n",
    "        function()\n",
    "    else:\n",
    "        exit()\n",
    "function()"
   ]
  },
  {
   "cell_type": "markdown",
   "metadata": {},
   "source": [
    "# LA4-Electricity bill calculation"
   ]
  },
  {
   "cell_type": "code",
   "execution_count": 2,
   "metadata": {},
   "outputs": [
    {
     "name": "stdout",
     "output_type": "stream",
     "text": [
      "enter no. of units1076\n",
      "current bill= 1761.8\n"
     ]
    }
   ],
   "source": [
    "n=int(input('enter no. of units'))\n",
    "if(n<50):\n",
    "    bill=n*0.5\n",
    "elif(n>50 and n<100):\n",
    "    m=n-50\n",
    "    bill=50*0.5+m*0.8\n",
    "elif(n>=100 and n<200):\n",
    "    m=n-100\n",
    "    bill=m*1.2+50*0.8+50*0.5\n",
    "elif(n>=200):\n",
    "    m=n-200\n",
    "    bill=m*1.8+100*1.2+50*0.8+50*0.5\n",
    "print('current bill=',bill)"
   ]
  },
  {
   "cell_type": "markdown",
   "metadata": {},
   "source": [
    "# LA5- Dictionary of Cubes"
   ]
  },
  {
   "cell_type": "code",
   "execution_count": 9,
   "metadata": {},
   "outputs": [
    {
     "name": "stdout",
     "output_type": "stream",
     "text": [
      "enter the no. of elements in dictionary10\n",
      "{1: 1, 2: 8, 3: 27, 4: 64, 5: 125, 6: 216, 7: 343, 8: 512, 9: 729, 10: 1000}\n"
     ]
    }
   ],
   "source": [
    "d=dict()\n",
    "a=int(input('enter the no. of elements in dictionary'))\n",
    "for i in range(1,a+1):\n",
    "    d[i]=i**3\n",
    "print(d) "
   ]
  },
  {
   "cell_type": "code",
   "execution_count": null,
   "metadata": {},
   "outputs": [],
   "source": []
  },
  {
   "cell_type": "code",
   "execution_count": null,
   "metadata": {},
   "outputs": [],
   "source": []
  }
 ],
 "metadata": {
  "kernelspec": {
   "display_name": "Python 3",
   "language": "python",
   "name": "python3"
  },
  "language_info": {
   "codemirror_mode": {
    "name": "ipython",
    "version": 3
   },
   "file_extension": ".py",
   "mimetype": "text/x-python",
   "name": "python",
   "nbconvert_exporter": "python",
   "pygments_lexer": "ipython3",
   "version": "3.7.3"
  }
 },
 "nbformat": 4,
 "nbformat_minor": 2
}
