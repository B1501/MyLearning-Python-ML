{
 "cells": [
  {
   "cell_type": "markdown",
   "metadata": {},
   "source": [
    "# Numpy(Numerical Python)"
   ]
  },
  {
   "cell_type": "code",
   "execution_count": 2,
   "metadata": {},
   "outputs": [],
   "source": [
    "#conda install numpy\n",
    "#pip install numpy"
   ]
  },
  {
   "cell_type": "code",
   "execution_count": 7,
   "metadata": {},
   "outputs": [
    {
     "data": {
      "text/plain": [
       "'1.17.3'"
      ]
     },
     "execution_count": 7,
     "metadata": {},
     "output_type": "execute_result"
    }
   ],
   "source": [
    "import numpy as np\n",
    "np.__version__"
   ]
  },
  {
   "cell_type": "code",
   "execution_count": 30,
   "metadata": {},
   "outputs": [
    {
     "name": "stdout",
     "output_type": "stream",
     "text": [
      "<class 'numpy.ndarray'>\n",
      "[1 2 3 4]\n",
      "(4,)\n"
     ]
    }
   ],
   "source": [
    "import numpy as np\n",
    "a = np.array([1,2,3,4])\n",
    "print(type(a))#numpy.ndarray(n dimensional array)\n",
    "print(a)\n",
    "print(a.shape)#to fine the size of the array"
   ]
  },
  {
   "cell_type": "code",
   "execution_count": 32,
   "metadata": {},
   "outputs": [
    {
     "name": "stdout",
     "output_type": "stream",
     "text": [
      "<class 'numpy.ndarray'>\n",
      "[[  1   2   3   4]\n",
      " [  2   4   5   6]\n",
      " [  1 334   5  53]]\n",
      "(3, 4)\n",
      "53\n"
     ]
    }
   ],
   "source": [
    "import numpy as np\n",
    "a = np.array([[1,2,3,4],[2,4,5,6],[1,334,5,53]])\n",
    "print(type(a))#numpy.ndarray(n dimensional array)\n",
    "print(a)\n",
    "print(a.shape)\n",
    "print(a[2][3])"
   ]
  },
  {
   "cell_type": "markdown",
   "metadata": {},
   "source": [
    "# List to numpy"
   ]
  },
  {
   "cell_type": "code",
   "execution_count": 36,
   "metadata": {},
   "outputs": [
    {
     "name": "stdout",
     "output_type": "stream",
     "text": [
      "[[  2   5  67   4]\n",
      " [ 31 513 512   4]]\n",
      "[ 2  5 67  4]\n"
     ]
    }
   ],
   "source": [
    "l1=[1,2,3,4]\n",
    "l2=[[2,5,67,4],[31,513,512,4]]\n",
    "n= np.array(l1)\n",
    "n= np.array(l2)\n",
    "print(n)\n",
    "print(n[0])"
   ]
  },
  {
   "cell_type": "markdown",
   "metadata": {},
   "source": [
    "# Tuple to numpy"
   ]
  },
  {
   "cell_type": "code",
   "execution_count": 44,
   "metadata": {},
   "outputs": [
    {
     "name": "stdout",
     "output_type": "stream",
     "text": [
      "[[  2   5  67   4]\n",
      " [ 31 513 512   4]]\n",
      "(2, 4)\n",
      "[ 31 513 512   4]\n",
      "<class 'numpy.ndarray'>\n"
     ]
    }
   ],
   "source": [
    "l1=(1,2,3,4)\n",
    "l2=((2,5,67,4),(31,513,512,4))\n",
    "n= np.array(l1)\n",
    "n= np.array(l2)\n",
    "print(n)\n",
    "print(n.shape)\n",
    "print(n[1])\n",
    "print(type(n))"
   ]
  },
  {
   "cell_type": "markdown",
   "metadata": {},
   "source": [
    "# Reshape Funtion"
   ]
  },
  {
   "cell_type": "code",
   "execution_count": 74,
   "metadata": {},
   "outputs": [
    {
     "name": "stdout",
     "output_type": "stream",
     "text": [
      "[ 1  2  3  4 56  7  8  9  3  0]\n",
      "[[ 1  2  3  4 56]\n",
      " [ 7  8  9  3  0]] \n",
      "\n",
      "[[ 1  2]\n",
      " [ 3  4]\n",
      " [56  7]\n",
      " [ 8  9]\n",
      " [ 3  0]] \n",
      "\n",
      "[[ 1]\n",
      " [ 2]\n",
      " [ 3]\n",
      " [ 4]\n",
      " [56]\n",
      " [ 7]\n",
      " [ 8]\n",
      " [ 9]\n",
      " [ 3]\n",
      " [ 0]] \n",
      "\n"
     ]
    }
   ],
   "source": [
    "l1=[1,2,3,4,56,7,8,9,3,0]\n",
    "a=np.array(l1)\n",
    "print(a)\n",
    "b=a.reshape(2,5)\n",
    "print(b,'\\n')\n",
    "print(a.reshape(-3,2),'\\n')\n",
    "print(a.reshape(10,1),'\\n')# when we reshape 1d array it turns into 2d dimensional array with [[_,_][_,_]]"
   ]
  },
  {
   "cell_type": "markdown",
   "metadata": {},
   "source": [
    "# Arange Function"
   ]
  },
  {
   "cell_type": "code",
   "execution_count": null,
   "metadata": {},
   "outputs": [],
   "source": [
    "np.arange(start,end,step)"
   ]
  },
  {
   "cell_type": "code",
   "execution_count": 65,
   "metadata": {},
   "outputs": [
    {
     "name": "stdout",
     "output_type": "stream",
     "text": [
      "[2.  2.5 3.  3.5 4.  4.5 5.  5.5 6.  6.5 7.  7.5 8.  8.5 9.  9.5]\n",
      "<class 'numpy.ndarray'>\n"
     ]
    }
   ],
   "source": [
    "z= np.arange(2,10,0.5)\n",
    "print(z)\n",
    "print(type(z))"
   ]
  },
  {
   "cell_type": "code",
   "execution_count": 67,
   "metadata": {},
   "outputs": [
    {
     "name": "stdout",
     "output_type": "stream",
     "text": [
      "[0 1 2 3 4 5 6 7]\n",
      "[[0 1 2 3]\n",
      " [4 5 6 7]]\n"
     ]
    }
   ],
   "source": [
    "x=np.arange(8)\n",
    "print(x)\n",
    "print(x.reshape(-1,4))"
   ]
  },
  {
   "cell_type": "code",
   "execution_count": 73,
   "metadata": {},
   "outputs": [
    {
     "name": "stdout",
     "output_type": "stream",
     "text": [
      "[[0 1]\n",
      " [2 3]\n",
      " [4 5]\n",
      " [6 7]]\n",
      "<class 'numpy.ndarray'>\n"
     ]
    }
   ],
   "source": [
    "x=np.arange(8).reshape(-1,2)\n",
    "print(x)\n",
    "print(type(x))"
   ]
  },
  {
   "cell_type": "code",
   "execution_count": 67,
   "metadata": {},
   "outputs": [
    {
     "name": "stdout",
     "output_type": "stream",
     "text": [
      "[0 1 2 3 4 5 6 7]\n",
      "[[0 1 2 3]\n",
      " [4 5 6 7]]\n"
     ]
    }
   ],
   "source": [
    "x=np.arange(8)\n",
    "print(x)\n",
    "print(x.reshape(-1,4))"
   ]
  },
  {
   "cell_type": "markdown",
   "metadata": {},
   "source": [
    "# Ravel Function"
   ]
  },
  {
   "cell_type": "code",
   "execution_count": 35,
   "metadata": {},
   "outputs": [
    {
     "name": "stdout",
     "output_type": "stream",
     "text": [
      "[[0 1]\n",
      " [2 3]\n",
      " [4 5]\n",
      " [6 7]]\n",
      "[0 1 2 3 4 5 6 7]\n",
      "[0 2 4 6 1 3 5 7]\n"
     ]
    },
    {
     "name": "stderr",
     "output_type": "stream",
     "text": [
      "D:\\anaconda\\lib\\site-packages\\ipykernel_launcher.py:4: DeprecationWarning: Non-string object detected for the array ordering. Please pass in 'C', 'F', 'A', or 'K' instead\n",
      "  after removing the cwd from sys.path.\n"
     ]
    }
   ],
   "source": [
    "x=np.arange(8).reshape(-1,2)#flatens the array\n",
    "print(x)\n",
    "print(x.ravel())#[0 1 2 3 4 5 6 7]\n",
    "print(x.ravel(2))#[0 4 1 5 2 6 3 7]\n"
   ]
  },
  {
   "cell_type": "markdown",
   "metadata": {},
   "source": [
    "# Lab assignment(multiplication of matrices)"
   ]
  },
  {
   "cell_type": "code",
   "execution_count": 115,
   "metadata": {},
   "outputs": [
    {
     "name": "stdout",
     "output_type": "stream",
     "text": [
      "[[11 16 27]\n",
      " [23 34 57]\n",
      " [21 33 60]]\n"
     ]
    }
   ],
   "source": [
    "a=np.array([[1,2,2],[3,4,4],[3,6,3]])\n",
    "b=np.array([[1,2,3],[1,2,5],[4,5,7]])\n",
    "for i in range(3):\n",
    "    for j in range(3):\n",
    "        c[i][j]=0\n",
    "        for k in range(3):\n",
    "            c[i][j]+=a[i][k]*b[k][j]\n",
    "print(c)\n",
    "    "
   ]
  },
  {
   "cell_type": "markdown",
   "metadata": {},
   "source": [
    "# Data type conversion"
   ]
  },
  {
   "cell_type": "code",
   "execution_count": 119,
   "metadata": {},
   "outputs": [
    {
     "name": "stdout",
     "output_type": "stream",
     "text": [
      "[['1' '2' '3']\n",
      " ['4' '5' '6']\n",
      " ['7' '8' '9']]\n"
     ]
    }
   ],
   "source": [
    "a = np.array([[1,2,3],[4,5,6],[7,8,9]],dtype = str)\n",
    "print(a)"
   ]
  },
  {
   "cell_type": "code",
   "execution_count": 120,
   "metadata": {},
   "outputs": [
    {
     "name": "stdout",
     "output_type": "stream",
     "text": [
      "[[1. 2. 3.]\n",
      " [4. 5. 6.]\n",
      " [7. 8. 9.]]\n"
     ]
    }
   ],
   "source": [
    "b = np.array([[1,2,3],[4,5,6],[7,8,9]],dtype = float)\n",
    "print(b)"
   ]
  },
  {
   "cell_type": "code",
   "execution_count": 128,
   "metadata": {},
   "outputs": [
    {
     "name": "stdout",
     "output_type": "stream",
     "text": [
      "[[1.2+0.j 2. +0.j 3. +0.j]\n",
      " [4. +0.j 5. +0.j 6. +0.j]\n",
      " [7. +0.j 8. +0.j 9. +0.j]]\n",
      "<class 'numpy.complex128'>\n"
     ]
    }
   ],
   "source": [
    "c = np.array([[1.2,2,3],[4,5,6],[7,8,9]],dtype = complex)\n",
    "print(c)\n",
    "print(type(c[0,0]))"
   ]
  },
  {
   "cell_type": "markdown",
   "metadata": {},
   "source": [
    "# Functions in matrices"
   ]
  },
  {
   "cell_type": "code",
   "execution_count": 132,
   "metadata": {},
   "outputs": [
    {
     "name": "stdout",
     "output_type": "stream",
     "text": [
      "[[0. 0. 0.]\n",
      " [0. 0. 0.]\n",
      " [0. 0. 0.]]\n"
     ]
    }
   ],
   "source": [
    "#create an array of all zeros\n",
    "d = np.zeros((3,3))\n",
    "print(d)"
   ]
  },
  {
   "cell_type": "code",
   "execution_count": 133,
   "metadata": {},
   "outputs": [
    {
     "name": "stdout",
     "output_type": "stream",
     "text": [
      "[[0 0 0]\n",
      " [0 0 0]\n",
      " [0 0 0]]\n"
     ]
    }
   ],
   "source": [
    "d1 = np.zeros((3,3),dtype = int)\n",
    "print(d1)"
   ]
  },
  {
   "cell_type": "code",
   "execution_count": 134,
   "metadata": {},
   "outputs": [
    {
     "name": "stdout",
     "output_type": "stream",
     "text": [
      "[[1 1 1]\n",
      " [1 1 1]\n",
      " [1 1 1]]\n"
     ]
    }
   ],
   "source": [
    "d2 = np.ones((3,3),dtype = int)\n",
    "print(d2)"
   ]
  },
  {
   "cell_type": "code",
   "execution_count": 138,
   "metadata": {},
   "outputs": [
    {
     "name": "stdout",
     "output_type": "stream",
     "text": [
      "[['5.8' '5.8' '5.8' '5.8' '5.8' '5.8' '5.8' '5.8' '5.8' '5.8']\n",
      " ['5.8' '5.8' '5.8' '5.8' '5.8' '5.8' '5.8' '5.8' '5.8' '5.8']\n",
      " ['5.8' '5.8' '5.8' '5.8' '5.8' '5.8' '5.8' '5.8' '5.8' '5.8']\n",
      " ['5.8' '5.8' '5.8' '5.8' '5.8' '5.8' '5.8' '5.8' '5.8' '5.8']]\n"
     ]
    }
   ],
   "source": [
    "d3 = np.full((4,10),'5.8')\n",
    "print(d3)"
   ]
  },
  {
   "cell_type": "code",
   "execution_count": 142,
   "metadata": {},
   "outputs": [
    {
     "name": "stdout",
     "output_type": "stream",
     "text": [
      "[[1 0 0 0]\n",
      " [0 1 0 0]\n",
      " [0 0 1 0]\n",
      " [0 0 0 1]]\n"
     ]
    }
   ],
   "source": [
    "d = np.eye(4,dtype = int)\n",
    "print(d)"
   ]
  },
  {
   "cell_type": "code",
   "execution_count": 164,
   "metadata": {},
   "outputs": [
    {
     "name": "stdout",
     "output_type": "stream",
     "text": [
      "[[ 9 13 18 18  8  4  4 16 18]\n",
      " [ 3  5  1 18 19  8 18 13  8]\n",
      " [ 9 17 14 11  3 17 17 19 12]]\n"
     ]
    }
   ],
   "source": [
    "d=np.random.randint(1.1,20.2,size=(3,9))\n",
    "print(d)"
   ]
  },
  {
   "cell_type": "markdown",
   "metadata": {},
   "source": [
    "# Lab Assignment"
   ]
  },
  {
   "cell_type": "code",
   "execution_count": 177,
   "metadata": {},
   "outputs": [
    {
     "name": "stdout",
     "output_type": "stream",
     "text": [
      "[[0 0 0]\n",
      " [0 0 0]\n",
      " [0 0 0]\n",
      " [0 0 0]]\n",
      "[[1 1 1]\n",
      " [1 1 1]\n",
      " [1 1 1]\n",
      " [1 1 1]]\n",
      "[[4.+0.4j 4.+0.4j 4.+0.4j]\n",
      " [4.+0.4j 4.+0.4j 4.+0.4j]\n",
      " [4.+0.4j 4.+0.4j 4.+0.4j]\n",
      " [4.+0.4j 4.+0.4j 4.+0.4j]]\n",
      "<class 'numpy.complex128'>\n"
     ]
    }
   ],
   "source": [
    "d1 = np.zeros((4,3),dtype = int)\n",
    "print(d1)\n",
    "d2 = np.ones((4,3),dtype = int)\n",
    "print(d2)\n",
    "d3 = np.full((4,3),4.+0.4j)\n",
    "print(d3)\n",
    "print(type(d3[0,0]))"
   ]
  },
  {
   "cell_type": "markdown",
   "metadata": {},
   "source": [
    "# Array Indexing"
   ]
  },
  {
   "cell_type": "markdown",
   "metadata": {},
   "source": [
    "## Positive Indexing"
   ]
  },
  {
   "cell_type": "code",
   "execution_count": 243,
   "metadata": {},
   "outputs": [
    {
     "name": "stdout",
     "output_type": "stream",
     "text": [
      "[[ 1  2  3  4]\n",
      " [ 5  6  7  8]\n",
      " [ 9 10 11 12]]\n",
      "[[5 6]]\n"
     ]
    }
   ],
   "source": [
    "import numpy as np\n",
    "a = np.array([[1,2,3,4],[5,6,7,8],[9,10,11,12]])\n",
    "print(a)\n",
    "b=a[-2:-1,-4:-2]\n",
    "print(b)"
   ]
  },
  {
   "cell_type": "code",
   "execution_count": 195,
   "metadata": {},
   "outputs": [
    {
     "name": "stdout",
     "output_type": "stream",
     "text": [
      "[[ 1  2  3  4]\n",
      " [ 5  6  7  8]\n",
      " [ 9 10 11 12]]\n",
      "[[1 2 3]]\n"
     ]
    }
   ],
   "source": [
    "import numpy as np\n",
    "a = np.array([[1,2,3,4],[5,6,7,8],[9,10,11,12]])\n",
    "print(a)\n",
    "b=a[:-2,:-1]\n",
    "print(b)"
   ]
  },
  {
   "cell_type": "code",
   "execution_count": 260,
   "metadata": {},
   "outputs": [
    {
     "name": "stdout",
     "output_type": "stream",
     "text": [
      "[[ 1  2  3  4]\n",
      " [ 5  6  7  8]\n",
      " [ 9 10 11 12]]\n",
      "[[12  9]]\n"
     ]
    }
   ],
   "source": [
    "import numpy as np\n",
    "a = np.array([[1,2,3,4],[5,6,7,8],[9,10,11,12]])\n",
    "print(a)\n",
    "b=a[-1:,(-1,-4)]\n",
    "print(b)"
   ]
  },
  {
   "cell_type": "code",
   "execution_count": null,
   "metadata": {},
   "outputs": [],
   "source": [
    "import numpy as np\n",
    "a = np.array([[1,2,3,4],[5,6,7,8],[9,10,11,12]])\n",
    "print(a)\n",
    "b=a[-1:,::2]\n",
    "print(b)"
   ]
  },
  {
   "cell_type": "code",
   "execution_count": 254,
   "metadata": {},
   "outputs": [
    {
     "name": "stdout",
     "output_type": "stream",
     "text": [
      "[[ 1  2  3  4]\n",
      " [ 5  6  7  8]\n",
      " [ 9 10 11 12]]\n",
      "[[5 7]]\n"
     ]
    }
   ],
   "source": [
    "import numpy as np\n",
    "a = np.array([[1,2,3,4],[5,6,7,8],[9,10,11,12]])\n",
    "print(a)\n",
    "b=a[1:2,::2]\n",
    "print(b)"
   ]
  },
  {
   "cell_type": "code",
   "execution_count": 274,
   "metadata": {},
   "outputs": [
    {
     "name": "stdout",
     "output_type": "stream",
     "text": [
      "[[ 1  2  3]\n",
      " [ 5  6  7]\n",
      " [ 9 10 11]\n",
      " [12 13 14]]\n",
      "[[2 3]\n",
      " [6 7]]\n",
      "d= [[77  3]\n",
      " [ 6  7]]\n",
      "[[ 1 77  3]\n",
      " [ 5  6  7]\n",
      " [ 9 10 11]\n",
      " [12 13 14]]\n"
     ]
    }
   ],
   "source": [
    "b = np.array([[1,2,3],[5,6,7],[9,10,11],[12,13,14]])\n",
    "print(b)\n",
    "d=b[:2,1:3]\n",
    "print(d)\n",
    "\n",
    "d[0,0]=77\n",
    "print(\"d=\",d)\n",
    "\n",
    "print(b)"
   ]
  },
  {
   "cell_type": "markdown",
   "metadata": {},
   "source": [
    "# Lab Assignment"
   ]
  },
  {
   "cell_type": "code",
   "execution_count": 2,
   "metadata": {},
   "outputs": [
    {
     "name": "stdout",
     "output_type": "stream",
     "text": [
      "enter 12 elements\n",
      "1\n",
      "2\n",
      "34\n",
      "556\n",
      "6\n",
      "3\n",
      "24\n",
      "5\n",
      "1345\n",
      "1\n",
      "45\n",
      "135\n",
      "[[   1    2   34  556]\n",
      " [   6    3   24    5]\n",
      " [1345    1   45  135]]\n",
      "shape= (3, 4)\n",
      "2nd row= [[ 6  3 24  5]]\n",
      "after adding 10 to 1st row elements\n",
      "[[  11   12   44  566]\n",
      " [   6    3   24    5]\n",
      " [1345    1   45  135]]\n"
     ]
    }
   ],
   "source": [
    "import numpy as np\n",
    "a = np.zeros((3,4),dtype = int)\n",
    "print(\"enter 12 elements\")\n",
    "for i in range(3):\n",
    "    for j in range(4):\n",
    "        a[i][j]=input()\n",
    "print(a)\n",
    "print('shape=',a.shape)\n",
    "print('2nd row=',a[1:2,:])\n",
    "print('after adding 10 to 1st row elements')\n",
    "for j in range(4):\n",
    "    a[0][j]+=10\n",
    "print(a)"
   ]
  },
  {
   "cell_type": "markdown",
   "metadata": {},
   "source": [
    "# Advanced Indexing"
   ]
  },
  {
   "cell_type": "code",
   "execution_count": 8,
   "metadata": {},
   "outputs": [
    {
     "name": "stdout",
     "output_type": "stream",
     "text": [
      "[[ 1  2  3  5]\n",
      " [ 5  6  7  6]\n",
      " [ 9 10 11  3]]\n"
     ]
    },
    {
     "data": {
      "text/plain": [
       "array([[1, 5],\n",
       "       [9, 3]])"
      ]
     },
     "execution_count": 8,
     "metadata": {},
     "output_type": "execute_result"
    }
   ],
   "source": [
    "b = np.array([[1,2,3,5],[5,6,7,6],[9,10,11,3]])\n",
    "print(b)\n",
    "b[0::2,[0,3]]"
   ]
  },
  {
   "cell_type": "markdown",
   "metadata": {},
   "source": [
    "# Boolean Indexing"
   ]
  },
  {
   "cell_type": "code",
   "execution_count": 19,
   "metadata": {},
   "outputs": [
    {
     "name": "stdout",
     "output_type": "stream",
     "text": [
      "[[ 0  1 34]\n",
      " [ 3  4  2]\n",
      " [ 6  7  8]\n",
      " [ 9 10 11]]\n",
      "\n",
      " [[False False  True]\n",
      " [False False False]\n",
      " [ True  True  True]\n",
      " [ True  True  True]]\n",
      "\n",
      " [34  6  7  8  9 10 11]\n"
     ]
    }
   ],
   "source": [
    "x=np.array([[0,1,34],[3,4,2],[6,7,8],[9,10,11]])\n",
    "print(x)\n",
    "y=x>5\n",
    "print(\"\\n\",y)\n",
    "z=x[x>5]#we use this in Pandas\n",
    "print('\\n',z)"
   ]
  },
  {
   "cell_type": "markdown",
   "metadata": {},
   "source": [
    "# Array Math"
   ]
  },
  {
   "cell_type": "code",
   "execution_count": 32,
   "metadata": {},
   "outputs": [
    {
     "name": "stdout",
     "output_type": "stream",
     "text": [
      "[[1 2]\n",
      " [3 4]]\n",
      "[[5 6]\n",
      " [7 8]] \n",
      "\n",
      "[[ 6  8]\n",
      " [10 12]]\n",
      "[[ 6  8]\n",
      " [10 12]] \n",
      "\n",
      "[[-4 -4]\n",
      " [-4 -4]]\n",
      "[[-4 -4]\n",
      " [-4 -4]] \n",
      "\n",
      "[[ 5 12]\n",
      " [21 32]]\n",
      "[[ 5 12]\n",
      " [21 32]] \n",
      "\n",
      "[[0.2        0.33333333]\n",
      " [0.42857143 0.5       ]]\n",
      "[[0.2        0.33333333]\n",
      " [0.42857143 0.5       ]] \n",
      "\n"
     ]
    }
   ],
   "source": [
    "x=np.array([[1,2,],[3,4]])\n",
    "y=np.array([[5,6,],[7,8]])\n",
    "print(x)\n",
    "print(y,\"\\n\")\n",
    "print(x+y)\n",
    "print(np.add(x,y),\"\\n\")\n",
    "print(x-y)\n",
    "print(np.subtract(x,y),\"\\n\")\n",
    "print(x*y)\n",
    "print(np.multiply(x,y),\"\\n\")    \n",
    "print(x/y)\n",
    "print(np.divide(x,y),\"\\n\")"
   ]
  },
  {
   "cell_type": "code",
   "execution_count": 33,
   "metadata": {},
   "outputs": [
    {
     "name": "stdout",
     "output_type": "stream",
     "text": [
      "[[1.         1.41421356]\n",
      " [1.73205081 2.        ]]\n"
     ]
    }
   ],
   "source": [
    "print(np.sqrt(x))"
   ]
  },
  {
   "cell_type": "markdown",
   "metadata": {},
   "source": [
    "# Transpose of a matrix"
   ]
  },
  {
   "cell_type": "code",
   "execution_count": 34,
   "metadata": {},
   "outputs": [
    {
     "name": "stdout",
     "output_type": "stream",
     "text": [
      "[[1 3]\n",
      " [2 4]]\n"
     ]
    }
   ],
   "source": [
    "print(x.T)"
   ]
  },
  {
   "cell_type": "code",
   "execution_count": 43,
   "metadata": {},
   "outputs": [
    {
     "name": "stdout",
     "output_type": "stream",
     "text": [
      "-2\n"
     ]
    }
   ],
   "source": [
    "x=np.array([[1,2,],[3,4]])\n",
    "print(int(np.linalg.det(x)))"
   ]
  },
  {
   "cell_type": "code",
   "execution_count": null,
   "metadata": {},
   "outputs": [],
   "source": []
  }
 ],
 "metadata": {
  "kernelspec": {
   "display_name": "Python 3",
   "language": "python",
   "name": "python3"
  },
  "language_info": {
   "codemirror_mode": {
    "name": "ipython",
    "version": 3
   },
   "file_extension": ".py",
   "mimetype": "text/x-python",
   "name": "python",
   "nbconvert_exporter": "python",
   "pygments_lexer": "ipython3",
   "version": "3.6.1"
  }
 },
 "nbformat": 4,
 "nbformat_minor": 2
}
