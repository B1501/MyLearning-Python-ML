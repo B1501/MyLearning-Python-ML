{
 "cells": [
  {
   "cell_type": "markdown",
   "metadata": {},
   "source": [
    "# strings\n"
   ]
  },
  {
   "cell_type": "code",
   "execution_count": 2,
   "metadata": {},
   "outputs": [
    {
     "name": "stdout",
     "output_type": "stream",
     "text": [
      "o\n"
     ]
    }
   ],
   "source": [
    "str=\"good morning\"\n",
    "print(str[2])"
   ]
  },
  {
   "cell_type": "code",
   "execution_count": 63,
   "metadata": {},
   "outputs": [
    {
     "name": "stdout",
     "output_type": "stream",
     "text": [
      "hello\n",
      "lla olleh\n"
     ]
    }
   ],
   "source": [
    "str=\"hello all\"\n",
    "print(str[:5])\n",
    "print(str[::-1])"
   ]
  },
  {
   "cell_type": "code",
   "execution_count": 7,
   "metadata": {},
   "outputs": [
    {
     "name": "stdout",
     "output_type": "stream",
     "text": [
      "False\n",
      "hellohellohello\n"
     ]
    }
   ],
   "source": [
    "str1=\"hello\"\n",
    "str2=\"world\"\n",
    "print(str1==str2)\n",
    "print(str1*3)\n"
   ]
  },
  {
   "cell_type": "markdown",
   "metadata": {},
   "source": [
    "# formating of strings\n"
   ]
  },
  {
   "cell_type": "code",
   "execution_count": 19,
   "metadata": {},
   "outputs": [
    {
     "name": "stdout",
     "output_type": "stream",
     "text": [
      "2\n",
      "value of n is12\n",
      "value of mis 12and value of n is 2.44\n"
     ]
    }
   ],
   "source": [
    "n=12\n",
    "m=2.44\n",
    "print(\"%d\"%(m))\n",
    "#second method\n",
    "print(\"value of n is{0}\".format(n))\n",
    "print(\"value of mis {1}and value of n is {0}\".format(m,n))\n"
   ]
  },
  {
   "cell_type": "code",
   "execution_count": 30,
   "metadata": {},
   "outputs": [
    {
     "name": "stdout",
     "output_type": "stream",
     "text": [
      "False\n",
      "False\n",
      "True\n"
     ]
    }
   ],
   "source": [
    "str=\"cat mini sai\"\n",
    "print(str.startswith(\"sai\"))\n",
    "print(str.endswith(\"cat\"))\n",
    "print(str.startswith(\"mini\",4,8))"
   ]
  },
  {
   "cell_type": "code",
   "execution_count": 41,
   "metadata": {},
   "outputs": [
    {
     "name": "stdout",
     "output_type": "stream",
     "text": [
      "True\n"
     ]
    }
   ],
   "source": [
    "str=\"cat apple mango dog\"\n",
    "print(str.startswith(\"og\",17,19))"
   ]
  },
  {
   "cell_type": "markdown",
   "metadata": {},
   "source": [
    "# USER INPUT"
   ]
  },
  {
   "cell_type": "code",
   "execution_count": 43,
   "metadata": {},
   "outputs": [
    {
     "name": "stdout",
     "output_type": "stream",
     "text": [
      "enter n value90\n",
      "<class 'str'>\n"
     ]
    }
   ],
   "source": [
    "n=type(input(\"enter n value\"))\n",
    "print(n)\n"
   ]
  },
  {
   "cell_type": "code",
   "execution_count": 9,
   "metadata": {},
   "outputs": [
    {
     "name": "stdout",
     "output_type": "stream",
     "text": [
      "['cat', 'dog', 'ant', 'deer']\n",
      "<class 'list'>\n",
      "['cat', 'dog', 'ant,deer']\n"
     ]
    }
   ],
   "source": [
    "str=\"cat,dog,ant,deer\"\n",
    "name=str.split(\",\")\n",
    "print(name)\n",
    "print(type(name))\n",
    "name2=str.split(\",\",2)\n",
    "print(name2)"
   ]
  },
  {
   "cell_type": "code",
   "execution_count": 2,
   "metadata": {},
   "outputs": [
    {
     "name": "stdout",
     "output_type": "stream",
     "text": [
      "<class 'str'>\n",
      "26-11-2019\n",
      "<class 'str'>\n"
     ]
    }
   ],
   "source": [
    "sep=\"-\"\n",
    "date=sep.join((\"26\",\"11\",\"2019\"))\n",
    "print(type(date))\n",
    "print(date)\n",
    "date=sep.join([\"26\",\"11\",\"2019\"])\n",
    "print(type(date))"
   ]
  },
  {
   "cell_type": "code",
   "execution_count": 5,
   "metadata": {},
   "outputs": [
    {
     "name": "stdout",
     "output_type": "stream",
     "text": [
      "<class 'str'>\n",
      "<class 'str'>\n"
     ]
    }
   ],
   "source": [
    "sep=\"-\"\n",
    "date=sep.join((\"26\",\"11\",\"2019\"))\n",
    "print(type(date))\n",
    "date=sep.join([\"26\",\"11\",\"2019\"])\n",
    "print(type(date))"
   ]
  },
  {
   "cell_type": "markdown",
   "metadata": {},
   "source": [
    "# conditional statments\n"
   ]
  },
  {
   "cell_type": "code",
   "execution_count": 45,
   "metadata": {},
   "outputs": [
    {
     "name": "stdout",
     "output_type": "stream",
     "text": [
      "negative\n"
     ]
    }
   ],
   "source": [
    "n=-2\n",
    "if (n<0):\n",
    "    print(\"negative\")\n",
    "else:\n",
    "    print(\"positive\")\n"
   ]
  },
  {
   "cell_type": "code",
   "execution_count": 47,
   "metadata": {},
   "outputs": [
    {
     "name": "stdout",
     "output_type": "stream",
     "text": [
      "-2\n"
     ]
    }
   ],
   "source": [
    "print(n)\n"
   ]
  },
  {
   "cell_type": "markdown",
   "metadata": {},
   "source": [
    "## tuples"
   ]
  },
  {
   "cell_type": "code",
   "execution_count": 49,
   "metadata": {},
   "outputs": [
    {
     "name": "stdout",
     "output_type": "stream",
     "text": [
      "(1, 2, 34, 'sai', 100)\n"
     ]
    }
   ],
   "source": [
    "tuple1=(1,2,34,\"sai\",100)\n",
    "print(tuple1)"
   ]
  },
  {
   "cell_type": "code",
   "execution_count": 55,
   "metadata": {},
   "outputs": [
    {
     "name": "stdout",
     "output_type": "stream",
     "text": [
      "34\n",
      "(2, 'sai')\n"
     ]
    }
   ],
   "source": [
    "print(tuple1[2])\n",
    "print(tuple1[1::2])"
   ]
  },
  {
   "cell_type": "code",
   "execution_count": 62,
   "metadata": {},
   "outputs": [
    {
     "name": "stdout",
     "output_type": "stream",
     "text": [
      "(100, 'sai', 34, 2, 1)\n"
     ]
    }
   ],
   "source": [
    "print(tuple1[::-1])"
   ]
  },
  {
   "cell_type": "markdown",
   "metadata": {},
   "source": [
    "# Dictionary\n",
    "creating,accesing"
   ]
  },
  {
   "cell_type": "code",
   "execution_count": 67,
   "metadata": {},
   "outputs": [
    {
     "name": "stdout",
     "output_type": "stream",
     "text": [
      "{'jan': 1, 'feb': 2, 'march': 3}\n",
      "1\n"
     ]
    }
   ],
   "source": [
    "dic={\"jan\":1,\"feb\":2,\"march\":3}\n",
    "print(dic)\n",
    "print(dic[\"jan\"])\n"
   ]
  },
  {
   "cell_type": "code",
   "execution_count": 71,
   "metadata": {},
   "outputs": [
    {
     "name": "stdout",
     "output_type": "stream",
     "text": [
      "{'jan': 33, 'feb': 34, 'may': 35, 'march': 33}\n",
      "{'jan': 33, 'feb': 34, 'may': 12, 'march': 33}\n",
      "{'jan': 33, 'feb': 34, 'may': 12}\n"
     ]
    }
   ],
   "source": [
    "#updating dictionary\n",
    "dic={\"jan\":33,\"feb\":34,\"may\":35}\n",
    "dic[\"march\"]=33\n",
    "print(dic)\n",
    "dic[\"may\"]=12\n",
    "print(dic)\n",
    "#deleting\n",
    "del dic[\"march\"]\n",
    "print(dic)"
   ]
  },
  {
   "cell_type": "code",
   "execution_count": 72,
   "metadata": {},
   "outputs": [
    {
     "ename": "TypeError",
     "evalue": "unhashable type: 'list'",
     "output_type": "error",
     "traceback": [
      "\u001b[1;31m---------------------------------------------------------------------------\u001b[0m",
      "\u001b[1;31mTypeError\u001b[0m                                 Traceback (most recent call last)",
      "\u001b[1;32m<ipython-input-72-8588034bab5d>\u001b[0m in \u001b[0;36m<module>\u001b[1;34m\u001b[0m\n\u001b[1;32m----> 1\u001b[1;33m \u001b[0mdic\u001b[0m\u001b[1;33m=\u001b[0m\u001b[1;33m{\u001b[0m\u001b[1;34m\"jan\"\u001b[0m\u001b[1;33m:\u001b[0m\u001b[1;36m1\u001b[0m\u001b[1;33m,\u001b[0m\u001b[1;34m\"feb\"\u001b[0m\u001b[1;33m:\u001b[0m\u001b[1;36m12\u001b[0m\u001b[1;33m,\u001b[0m\u001b[1;33m[\u001b[0m\u001b[1;36m23\u001b[0m\u001b[1;33m,\u001b[0m\u001b[1;36m11\u001b[0m\u001b[1;33m,\u001b[0m\u001b[1;36m23\u001b[0m\u001b[1;33m]\u001b[0m\u001b[1;33m:\u001b[0m\u001b[1;36m33\u001b[0m\u001b[1;33m}\u001b[0m\u001b[1;33m\u001b[0m\u001b[1;33m\u001b[0m\u001b[0m\n\u001b[0m\u001b[0;32m      2\u001b[0m \u001b[0mprint\u001b[0m\u001b[1;33m(\u001b[0m\u001b[0mdic\u001b[0m\u001b[1;33m)\u001b[0m\u001b[1;33m\u001b[0m\u001b[1;33m\u001b[0m\u001b[0m\n",
      "\u001b[1;31mTypeError\u001b[0m: unhashable type: 'list'"
     ]
    }
   ],
   "source": [
    "dic={\"jan\":1,\"feb\":12,[23,11,23]:33}# keys are immutable \n",
    "print(dic)"
   ]
  },
  {
   "cell_type": "code",
   "execution_count": 81,
   "metadata": {},
   "outputs": [
    {
     "name": "stdout",
     "output_type": "stream",
     "text": [
      "33\n",
      "{'jan': 33, 'feb': 2}\n",
      "2\n",
      "33\n",
      "33\n",
      "None\n",
      "2\n",
      "{'jan': 33, 'feb': 2}\n"
     ]
    }
   ],
   "source": [
    "dic={\"jan\":2,\"jan\":33,\"feb\":2}# keys are unique\n",
    "print(dic[\"jan\"])\n",
    "print(dic)\n",
    "print(len(dic))\n",
    "print(dic.get(\"jan\",None))\n",
    "print(dic.get(\"jan\",33))\n",
    "print(dic.get(\"may\",None))#no such key\n",
    "print(dic.get(\"feb\",22))\n",
    "print(dic)"
   ]
  },
  {
   "cell_type": "code",
   "execution_count": 85,
   "metadata": {},
   "outputs": [
    {
     "name": "stdout",
     "output_type": "stream",
     "text": [
      "dict_items([('jan', 2), ('feb', 22), ('march', 44)])\n",
      "<class 'dict_items'>\n",
      "[('jan', 2), ('feb', 22), ('march', 44)]\n",
      "<class 'list'>\n"
     ]
    }
   ],
   "source": [
    "dic={\"jan\":2,\"feb\":22,\"march\":44}\n",
    "print(dic.items())\n",
    "print(type(dic.items()))\n",
    "print(list(dic.items()))\n",
    "print(type(list(dic.items())))"
   ]
  },
  {
   "cell_type": "code",
   "execution_count": 87,
   "metadata": {},
   "outputs": [
    {
     "name": "stdout",
     "output_type": "stream",
     "text": [
      "dict_keys(['jan', 'feb', 'march'])\n",
      "<class 'dict_keys'>\n",
      "['jan', 'feb', 'march']\n",
      "<class 'list'>\n",
      "[2, 22, 44]\n"
     ]
    }
   ],
   "source": [
    "print(dic.keys())\n",
    "print(type(dic.keys()))\n",
    "print(list(dic.keys()))\n",
    "print(type(list(dic.keys())))\n",
    "print(list(dic.values()))"
   ]
  },
  {
   "cell_type": "markdown",
   "metadata": {},
   "source": [
    "# loops"
   ]
  },
  {
   "cell_type": "code",
   "execution_count": 93,
   "metadata": {},
   "outputs": [
    {
     "name": "stdout",
     "output_type": "stream",
     "text": [
      "[0, 1, 2, 3, 4, 5, 6, 7, 8, 9]\n",
      "[0, 1, 2, 3, 4, 5, 6, 7, 8, 9]\n",
      "[2, 5, 8]\n"
     ]
    }
   ],
   "source": [
    "print(list(range(10)))\n",
    "a=list(range(10))\n",
    "print(a)\n",
    "print(list(range(2,10,3)))"
   ]
  },
  {
   "cell_type": "markdown",
   "metadata": {},
   "source": [
    "for loop"
   ]
  },
  {
   "cell_type": "code",
   "execution_count": 98,
   "metadata": {},
   "outputs": [
    {
     "name": "stdout",
     "output_type": "stream",
     "text": [
      "1\n",
      "2\n",
      "3\n",
      "4\n",
      "5\n",
      "6\n",
      "7\n",
      "8\n",
      "9\n",
      "10\n"
     ]
    }
   ],
   "source": [
    "for n in list(range(1,11)):\n",
    "    print(n)"
   ]
  },
  {
   "cell_type": "code",
   "execution_count": 102,
   "metadata": {},
   "outputs": [
    {
     "name": "stdout",
     "output_type": "stream",
     "text": [
      "pratyusha#mini@me\n"
     ]
    }
   ],
   "source": [
    "print(\"pratyusha\",\"mini\",sep=\"#\",end=\"@\")\n",
    "print(\"me\")"
   ]
  },
  {
   "cell_type": "code",
   "execution_count": 104,
   "metadata": {},
   "outputs": [
    {
     "name": "stdout",
     "output_type": "stream",
     "text": [
      "1 2 3 mini "
     ]
    }
   ],
   "source": [
    "list1=[1,2,3,\"mini\"]\n",
    "for n in list1:\n",
    "    print(n,end=\" \")"
   ]
  },
  {
   "cell_type": "code",
   "execution_count": 113,
   "metadata": {},
   "outputs": [
    {
     "name": "stdout",
     "output_type": "stream",
     "text": [
      "*** 1 ***\n",
      "    2\n",
      "*** 3 ***\n",
      "    4\n",
      "*** 5 ***\n",
      "    6\n",
      "*** 7 ***\n",
      "    8\n",
      "*** 9 ***\n",
      "    10\n"
     ]
    }
   ],
   "source": [
    "for n in (range(1,11)):\n",
    "    if(n%2!=0):\n",
    "        print(\"***\", n ,\"***\")\n",
    "    else:\n",
    "        print(\"   \",n)\n",
    "\n",
    "    "
   ]
  },
  {
   "cell_type": "markdown",
   "metadata": {},
   "source": [
    "WHILE LOOP"
   ]
  },
  {
   "cell_type": "code",
   "execution_count": 127,
   "metadata": {},
   "outputs": [
    {
     "name": "stdout",
     "output_type": "stream",
     "text": [
      "[1, 2, 3, 4, 5]\n",
      "[1, 2, 3, 4]\n",
      "[1, 2, 3]\n",
      "[1, 2]\n",
      "[1]\n"
     ]
    }
   ],
   "source": [
    "list1=[1 ,2,3,4,5 ]\n",
    "while(len(list1)>0):\n",
    "    print(list1)\n",
    "    del list1[-1]\n",
    "    "
   ]
  },
  {
   "cell_type": "code",
   "execution_count": 1,
   "metadata": {},
   "outputs": [
    {
     "name": "stdout",
     "output_type": "stream",
     "text": [
      "15\n"
     ]
    }
   ],
   "source": [
    "n=5\n",
    "add=0\n",
    "while(n>0):\n",
    "    add+=n\n",
    "    n-=1\n",
    "print(add)    "
   ]
  },
  {
   "cell_type": "code",
   "execution_count": 4,
   "metadata": {},
   "outputs": [
    {
     "name": "stdout",
     "output_type": "stream",
     "text": [
      "{1: 3, 8: 5}\n"
     ]
    }
   ],
   "source": [
    "s=dict()\n",
    "s[1]=3\n",
    "s[8]=5\n",
    "print(s)"
   ]
  },
  {
   "cell_type": "code",
   "execution_count": null,
   "metadata": {},
   "outputs": [],
   "source": []
  }
 ],
 "metadata": {
  "kernelspec": {
   "display_name": "Python 3",
   "language": "python",
   "name": "python3"
  },
  "language_info": {
   "codemirror_mode": {
    "name": "ipython",
    "version": 3
   },
   "file_extension": ".py",
   "mimetype": "text/x-python",
   "name": "python",
   "nbconvert_exporter": "python",
   "pygments_lexer": "ipython3",
   "version": "3.7.4"
  }
 },
 "nbformat": 4,
 "nbformat_minor": 2
}
