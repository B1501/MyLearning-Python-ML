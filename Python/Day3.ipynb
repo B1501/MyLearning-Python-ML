{
 "cells": [
  {
   "cell_type": "markdown",
   "metadata": {},
   "source": [
    "# Functions"
   ]
  },
  {
   "cell_type": "code",
   "execution_count": 1,
   "metadata": {},
   "outputs": [
    {
     "name": "stdout",
     "output_type": "stream",
     "text": [
      "7\n"
     ]
    }
   ],
   "source": [
    "def addition():\n",
    "    print(2+5)\n",
    "addition()"
   ]
  },
  {
   "cell_type": "markdown",
   "metadata": {},
   "source": [
    "# passing and return arguments"
   ]
  },
  {
   "cell_type": "code",
   "execution_count": 4,
   "metadata": {},
   "outputs": [
    {
     "name": "stdout",
     "output_type": "stream",
     "text": [
      "7\n"
     ]
    }
   ],
   "source": [
    "def add(x,y):\n",
    "    return x+y\n",
    "x=add(2,5)\n",
    "print(x)"
   ]
  },
  {
   "cell_type": "code",
   "execution_count": 1,
   "metadata": {},
   "outputs": [
    {
     "name": "stdout",
     "output_type": "stream",
     "text": [
      "0\n",
      "5\n",
      "0\n"
     ]
    }
   ],
   "source": [
    "s=0\n",
    "def add(x,y):\n",
    "    print(s)\n",
    "    sum=x+y\n",
    "    print(sum)\n",
    "    return sum\n",
    "add(2,3)\n",
    "print(s)"
   ]
  },
  {
   "cell_type": "markdown",
   "metadata": {},
   "source": [
    "# args"
   ]
  },
  {
   "cell_type": "code",
   "execution_count": 104,
   "metadata": {},
   "outputs": [
    {
     "name": "stdout",
     "output_type": "stream",
     "text": [
      "(1, 3, 47)\n",
      "<class 'tuple'>\n",
      "51\n"
     ]
    }
   ],
   "source": [
    "def addition(*args):\n",
    "    print(args)\n",
    "    print(type(args))\n",
    "    s=0\n",
    "    for i in args:\n",
    "        s+=i\n",
    "    print(s)\n",
    "addition(1,3,45+2)"
   ]
  },
  {
   "cell_type": "code",
   "execution_count": 105,
   "metadata": {},
   "outputs": [
    {
     "name": "stdout",
     "output_type": "stream",
     "text": [
      "(1, 3, 47)\n",
      "<class 'tuple'>\n",
      "51\n"
     ]
    }
   ],
   "source": [
    "def addition(*b):\n",
    "    print(b)\n",
    "    print(type(b))\n",
    "    s=0\n",
    "    for i in b:\n",
    "        s+=i\n",
    "    print(s)\n",
    "addition(1,3,45+2)"
   ]
  },
  {
   "cell_type": "markdown",
   "metadata": {},
   "source": [
    "# kwargs"
   ]
  },
  {
   "cell_type": "code",
   "execution_count": 119,
   "metadata": {},
   "outputs": [
    {
     "ename": "NameError",
     "evalue": "name 'kill1' is not defined",
     "output_type": "error",
     "traceback": [
      "\u001b[1;31m---------------------------------------------------------------------------\u001b[0m",
      "\u001b[1;31mNameError\u001b[0m                                 Traceback (most recent call last)",
      "\u001b[1;32m<ipython-input-119-227060587e2d>\u001b[0m in \u001b[0;36m<module>\u001b[1;34m\u001b[0m\n\u001b[1;32m----> 1\u001b[1;33m \u001b[0mk\u001b[0m\u001b[1;33m=\u001b[0m\u001b[1;33m{\u001b[0m\u001b[0mkill1\u001b[0m\u001b[1;33m:\u001b[0m\u001b[1;34m\"90kills\"\u001b[0m\u001b[1;33m,\u001b[0m\u001b[0mkill2\u001b[0m\u001b[1;33m:\u001b[0m\u001b[1;34m\"100kills\"\u001b[0m\u001b[1;33m}\u001b[0m\u001b[1;33m\u001b[0m\u001b[1;33m\u001b[0m\u001b[0m\n\u001b[0m\u001b[0;32m      2\u001b[0m \u001b[0mk\u001b[0m\u001b[1;33m\u001b[0m\u001b[1;33m\u001b[0m\u001b[0m\n",
      "\u001b[1;31mNameError\u001b[0m: name 'kill1' is not defined"
     ]
    }
   ],
   "source": [
    "k={kill1:\"90kills\",kill2:\"100kills\"}\n",
    "k"
   ]
  },
  {
   "cell_type": "code",
   "execution_count": 122,
   "metadata": {},
   "outputs": [
    {
     "name": "stdout",
     "output_type": "stream",
     "text": [
      "name vinay\n",
      "roll 40\n",
      "sport chess\n",
      "oh!lajdfjlahdlhajldfhjl\n",
      "name vinay\n",
      "roll 40\n",
      "sport krithik\n"
     ]
    }
   ],
   "source": [
    "def vjitcollege(**kwargs):\n",
    "    for i,j in kwargs.items():\n",
    "        print(i,j)\n",
    "        if j == \"chess\":\n",
    "            print(\"oh!lajdfjlahdlhajldfhjl\")\n",
    "vjitcollege(name=\"vinay\",roll=40,sport=\"chess\")\n",
    "vjitcollege(name=\"vinay\",roll=40,sport=\"krithik\")"
   ]
  },
  {
   "cell_type": "code",
   "execution_count": null,
   "metadata": {},
   "outputs": [],
   "source": []
  },
  {
   "cell_type": "markdown",
   "metadata": {},
   "source": [
    "# Advance Scripting Methods\n",
    "#  .List Comprehension"
   ]
  },
  {
   "cell_type": "code",
   "execution_count": 21,
   "metadata": {},
   "outputs": [
    {
     "name": "stdout",
     "output_type": "stream",
     "text": [
      "[0, 1, 4, 9, 16, 25, 36, 49, 64, 81]\n"
     ]
    }
   ],
   "source": [
    "l=[]\n",
    "for i in range(10):\n",
    "    l.append(i**2)\n",
    "print(l)"
   ]
  },
  {
   "cell_type": "code",
   "execution_count": 26,
   "metadata": {},
   "outputs": [
    {
     "data": {
      "text/plain": [
       "[0, 1, 2, 3, 4, 5, 6, 7, 8, 9]"
      ]
     },
     "execution_count": 26,
     "metadata": {},
     "output_type": "execute_result"
    }
   ],
   "source": [
    "l=list(range(0,10))\n",
    "l"
   ]
  },
  {
   "cell_type": "code",
   "execution_count": 25,
   "metadata": {},
   "outputs": [
    {
     "name": "stdout",
     "output_type": "stream",
     "text": [
      "[0, 1, 4, 9, 16, 25, 36, 49, 64, 81]\n"
     ]
    }
   ],
   "source": [
    "#list comprehension\n",
    "sq=[i**2 for i in range(10)]\n",
    "print(sq)"
   ]
  },
  {
   "cell_type": "code",
   "execution_count": 34,
   "metadata": {},
   "outputs": [
    {
     "name": "stdout",
     "output_type": "stream",
     "text": [
      "[1, 27, 125, 343, 729]\n"
     ]
    }
   ],
   "source": [
    "sq=[i**3  for i in range(10) if(i%2!=0)]\n",
    "print(sq)"
   ]
  },
  {
   "cell_type": "code",
   "execution_count": 62,
   "metadata": {},
   "outputs": [
    {
     "name": "stdout",
     "output_type": "stream",
     "text": [
      "[1, 3] [1, 4] [2, 3] [2, 1] [2, 4] [3, 1] [3, 4] "
     ]
    }
   ],
   "source": [
    "for x in [1,2,3]:\n",
    "    for y in [3,1,4]:\n",
    "        if x!=y:\n",
    "            a=[x,y]\n",
    "            print(a,end=\" \")\n",
    "       "
   ]
  },
  {
   "cell_type": "code",
   "execution_count": 61,
   "metadata": {},
   "outputs": [
    {
     "name": "stdout",
     "output_type": "stream",
     "text": [
      "[[1, 3], [1, 4], [2, 3], [2, 1], [2, 4], [3, 1], [3, 4]]\n"
     ]
    }
   ],
   "source": [
    "a=[[x,y] for x in [1,2,3]   for y in [3,1,4]  if(x!=y) ]\n",
    "print(a)"
   ]
  },
  {
   "cell_type": "code",
   "execution_count": 59,
   "metadata": {},
   "outputs": [
    {
     "name": "stdout",
     "output_type": "stream",
     "text": [
      "[{1: 3}, {1: 4}, {2: 3}, {2: 1}, {2: 4}, {3: 1}, {3: 4}]\n"
     ]
    }
   ],
   "source": [
    "a=[{x:y} for x in [1,2,3]   for y in [3,1,4]  if(x!=y) ]\n",
    "print(a)"
   ]
  },
  {
   "cell_type": "code",
   "execution_count": 55,
   "metadata": {},
   "outputs": [
    {
     "name": "stdout",
     "output_type": "stream",
     "text": [
      "[(1, 3), (1, 4), (2, 3), (2, 1), (2, 4), (3, 1), (3, 4)]\n"
     ]
    }
   ],
   "source": [
    "a=[(x,y) for x in [1,2,3]   for y in [3,1,4]  if(x!=y) ]\n",
    "print(a)"
   ]
  },
  {
   "cell_type": "markdown",
   "metadata": {},
   "source": [
    "# .Generator Exprsssion"
   ]
  },
  {
   "cell_type": "code",
   "execution_count": 10,
   "metadata": {},
   "outputs": [
    {
     "name": "stdout",
     "output_type": "stream",
     "text": [
      "[0, 1, 4, 9, 16, 25, 36, 49, 64, 81]\n",
      "<generator object <genexpr> at 0x0000025CF92FE228>\n",
      "0\n",
      "1\n",
      "8\n",
      "27\n",
      "64\n",
      "125\n",
      "216\n",
      "343\n",
      "512\n",
      "729\n"
     ]
    }
   ],
   "source": [
    "\n",
    "from sys import getsizeof\n",
    "#list comprehension\n",
    "squares = [i**2 for i in range(10)]\n",
    "print(squares)\n",
    "\n",
    "# generator expression\n",
    "a=(i**3 for i in range(10))\n",
    "print(a)\n",
    "# print(getsizeof(squares))\n",
    "# print(getsizeof(a))\n",
    "\n",
    "for i in a:\n",
    "    print(i)"
   ]
  },
  {
   "cell_type": "markdown",
   "metadata": {},
   "source": [
    "# Lambda Function(anonymous function)"
   ]
  },
  {
   "cell_type": "code",
   "execution_count": 11,
   "metadata": {},
   "outputs": [],
   "source": [
    "#lambda variable :expression"
   ]
  },
  {
   "cell_type": "code",
   "execution_count": 16,
   "metadata": {},
   "outputs": [
    {
     "name": "stdout",
     "output_type": "stream",
     "text": [
      "7\n"
     ]
    }
   ],
   "source": [
    "sumval = lambda x,y : x+y\n",
    "print(sumval(3,4))"
   ]
  },
  {
   "cell_type": "code",
   "execution_count": 27,
   "metadata": {},
   "outputs": [
    {
     "name": "stdout",
     "output_type": "stream",
     "text": [
      "enter a no.5\n",
      "25\n"
     ]
    }
   ],
   "source": [
    "z=int(input('enter a no.'))\n",
    "a=lambda x : x**2\n",
    "print(a(z))"
   ]
  },
  {
   "cell_type": "markdown",
   "metadata": {},
   "source": [
    "# Map function"
   ]
  },
  {
   "cell_type": "code",
   "execution_count": 28,
   "metadata": {},
   "outputs": [],
   "source": [
    "#map(lambda function, range)"
   ]
  },
  {
   "cell_type": "code",
   "execution_count": 34,
   "metadata": {},
   "outputs": [
    {
     "data": {
      "text/plain": [
       "[0, -1, 0, 3, 8, 15, 24, 35, 48, 63]"
      ]
     },
     "execution_count": 34,
     "metadata": {},
     "output_type": "execute_result"
    }
   ],
   "source": [
    "list(map(lambda x,y:x*y,range(10),range(-2,10)))"
   ]
  },
  {
   "cell_type": "code",
   "execution_count": 35,
   "metadata": {},
   "outputs": [
    {
     "data": {
      "text/plain": [
       "[0, 2, 8, 15]"
      ]
     },
     "execution_count": 35,
     "metadata": {},
     "output_type": "execute_result"
    }
   ],
   "source": [
    "list(map(lambda x,y:x*y,range(10),[1,2,4,5]))"
   ]
  },
  {
   "cell_type": "code",
   "execution_count": null,
   "metadata": {},
   "outputs": [],
   "source": []
  },
  {
   "cell_type": "code",
   "execution_count": 40,
   "metadata": {},
   "outputs": [
    {
     "data": {
      "text/plain": [
       "[False, False, False, False, False, False, False, False, False, False]"
      ]
     },
     "execution_count": 40,
     "metadata": {},
     "output_type": "execute_result"
    }
   ],
   "source": [
    "#conditions in map function\n",
    "list(map(lambda x,y:x<y,range(10),range(-2,10)))"
   ]
  },
  {
   "cell_type": "markdown",
   "metadata": {},
   "source": [
    "# Filter function"
   ]
  },
  {
   "cell_type": "code",
   "execution_count": 41,
   "metadata": {},
   "outputs": [
    {
     "data": {
      "text/plain": [
       "[1, 2, 3, 4, 5, 6, 7, 8, 9]"
      ]
     },
     "execution_count": 41,
     "metadata": {},
     "output_type": "execute_result"
    }
   ],
   "source": [
    "#filter dont take expressions\n",
    "list(filter(lambda x:x**2,range(10)))"
   ]
  },
  {
   "cell_type": "code",
   "execution_count": 47,
   "metadata": {},
   "outputs": [
    {
     "data": {
      "text/plain": [
       "[0, 2, 4, 6, 8]"
      ]
     },
     "execution_count": 47,
     "metadata": {},
     "output_type": "execute_result"
    }
   ],
   "source": [
    "#filter only take conditions\n",
    "list(filter(lambda x:x%2==0, range(10)))"
   ]
  },
  {
   "cell_type": "code",
   "execution_count": 50,
   "metadata": {},
   "outputs": [
    {
     "data": {
      "text/plain": [
       "[]"
      ]
     },
     "execution_count": 50,
     "metadata": {},
     "output_type": "execute_result"
    }
   ],
   "source": [
    "list(filter(lambda x,y:x+y==0, range(10,10)))"
   ]
  },
  {
   "cell_type": "markdown",
   "metadata": {},
   "source": [
    "# File I/O operations"
   ]
  },
  {
   "cell_type": "code",
   "execution_count": 39,
   "metadata": {},
   "outputs": [
    {
     "name": "stdout",
     "output_type": "stream",
     "text": [
      "sometext.txt\n",
      "r\n",
      "False\n",
      "hey its me krithik\n",
      "\n"
     ]
    }
   ],
   "source": [
    "fo = open(\"sometext.txt\",\"r\")\n",
    "print(fo.name)\n",
    "print(fo.mode)\n",
    "print(fo.closed)\n",
    "# text=fo.read()\n",
    "# print(text)\n",
    "\n",
    "content=fo.readline()\n",
    "print(content)"
   ]
  },
  {
   "cell_type": "code",
   "execution_count": 44,
   "metadata": {},
   "outputs": [
    {
     "name": "stdout",
     "output_type": "stream",
     "text": [
      "['hey its me krithik\\n', 'you know wat?\\n', 'i am legend\\n', 'haha\\n', '123 i am a mystry']\n",
      "haha\n",
      "\n"
     ]
    }
   ],
   "source": [
    "fo = open(\"sometext.txt\",\"r\")\n",
    "content=fo.readlines()\n",
    "print(content)\n",
    "print(content[3])\n",
    "fo.close()"
   ]
  },
  {
   "cell_type": "code",
   "execution_count": 53,
   "metadata": {},
   "outputs": [
    {
     "name": "stdout",
     "output_type": "stream",
     "text": [
      "there is only one life, stop learning soo much and enjoy life\n"
     ]
    }
   ],
   "source": [
    "fo = open(\"sometext.txt\",\"w\")\n",
    "fo.write(\"there is only one life, stop learning soo much and enjoy life\")\n",
    "fo.close()\n",
    "fo = open(\"sometext.txt\",\"r\")\n",
    "con=fo.read()\n",
    "print(con)\n",
    "fo.close()"
   ]
  },
  {
   "cell_type": "code",
   "execution_count": 73,
   "metadata": {},
   "outputs": [
    {
     "name": "stdout",
     "output_type": "stream",
     "text": [
      "AIJEFJBHIJOAEO\n",
      "\n"
     ]
    }
   ],
   "source": [
    "fo = open(\"sometext.txt\",\"r+\")\n",
    "fo.write('\\n you are dadfadfsafsh')\n",
    "kr=fo.readline()\n",
    "print(kr)\n",
    "fo.close()"
   ]
  },
  {
   "cell_type": "markdown",
   "metadata": {},
   "source": [
    "# using file.seek()"
   ]
  },
  {
   "cell_type": "code",
   "execution_count": null,
   "metadata": {},
   "outputs": [],
   "source": [
    "fo = open(\"sometext.txt\",\"w+\")\n",
    "fo.write(\"AIJEFJBHIJOAEO\")\n",
    "fo.seek(0)\n",
    "st=fo.read()\n",
    "print(st)"
   ]
  },
  {
   "cell_type": "code",
   "execution_count": 81,
   "metadata": {},
   "outputs": [
    {
     "name": "stdout",
     "output_type": "stream",
     "text": [
      "AIJEFJBHIJOAEO\n",
      " you are dadfadfsafsh\n",
      " you are dadfadfsafsh\n",
      " appending this line\n",
      " appending this line\n",
      " appending this line\n"
     ]
    }
   ],
   "source": [
    "fo = open(\"sometext.txt\",\"a\")\n",
    "fo.write(\"\\n appending this line\")\n",
    "fo.close()\n",
    "fo = open(\"sometext.txt\",\"r+\")\n",
    "\n",
    "r=fo.read()\n",
    "print(r)"
   ]
  },
  {
   "cell_type": "markdown",
   "metadata": {},
   "source": [
    "# Exception Handling"
   ]
  },
  {
   "cell_type": "code",
   "execution_count": 82,
   "metadata": {},
   "outputs": [
    {
     "name": "stdout",
     "output_type": "stream",
     "text": [
      "no error\n"
     ]
    }
   ],
   "source": [
    "try:\n",
    "    (\"hello\"+2)\n",
    "except TypeError:\n",
    "    print(\"no error\")"
   ]
  },
  {
   "cell_type": "code",
   "execution_count": 93,
   "metadata": {},
   "outputs": [
    {
     "name": "stdout",
     "output_type": "stream",
     "text": [
      "2.0\n",
      "******\n",
      "i am sorry to interupt but i am forced to\n"
     ]
    }
   ],
   "source": [
    "try:\n",
    "    n=4/2\n",
    "    print(n)\n",
    "except BaseException:\n",
    "    print(\"Error\")\n",
    "else:\n",
    "    print(\"******\")\n",
    "finally:\n",
    "    print(\"i am sorry to interupt but i am forced to\")"
   ]
  },
  {
   "cell_type": "markdown",
   "metadata": {},
   "source": []
  },
  {
   "cell_type": "code",
   "execution_count": null,
   "metadata": {},
   "outputs": [],
   "source": []
  },
  {
   "cell_type": "code",
   "execution_count": null,
   "metadata": {},
   "outputs": [],
   "source": []
  },
  {
   "cell_type": "code",
   "execution_count": null,
   "metadata": {},
   "outputs": [],
   "source": []
  }
 ],
 "metadata": {
  "kernelspec": {
   "display_name": "Python 3",
   "language": "python",
   "name": "python3"
  },
  "language_info": {
   "codemirror_mode": {
    "name": "ipython",
    "version": 3
   },
   "file_extension": ".py",
   "mimetype": "text/x-python",
   "name": "python",
   "nbconvert_exporter": "python",
   "pygments_lexer": "ipython3",
   "version": "3.6.1"
  }
 },
 "nbformat": 4,
 "nbformat_minor": 2
}
