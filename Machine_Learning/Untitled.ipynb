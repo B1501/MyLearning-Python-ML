{
 "cells": [
  {
   "cell_type": "code",
   "execution_count": 2,
   "metadata": {},
   "outputs": [
    {
     "name": "stdout",
     "output_type": "stream",
     "text": [
      "eyJraWQiOiIyMDE5MDcyNCIsImFsZyI6IlJTMjU2In0.eyJpYW1faWQiOiJpYW0tU2VydmljZUlkLTM3YTViYWJiLWFmNTctNDc5MS05NmMyLTMwMTRkMmRmMjI1ZSIsImlkIjoiaWFtLVNlcnZpY2VJZC0zN2E1YmFiYi1hZjU3LTQ3OTEtOTZjMi0zMDE0ZDJkZjIyNWUiLCJyZWFsbWlkIjoiaWFtIiwiaWRlbnRpZmllciI6IlNlcnZpY2VJZC0zN2E1YmFiYi1hZjU3LTQ3OTEtOTZjMi0zMDE0ZDJkZjIyNWUiLCJzdWIiOiJTZXJ2aWNlSWQtMzdhNWJhYmItYWY1Ny00NzkxLTk2YzItMzAxNGQyZGYyMjVlIiwic3ViX3R5cGUiOiJTZXJ2aWNlSWQiLCJhY2NvdW50Ijp7InZhbGlkIjp0cnVlLCJic3MiOiI4MTkwZDRmMjczN2Q0NjAwOGE3M2JiNzgyN2VkOWM0ZCJ9LCJpYXQiOjE1NzU3MDkzMDYsImV4cCI6MTU3NTcxMjkwNiwiaXNzIjoiaHR0cHM6Ly9pYW0ubmcuYmx1ZW1peC5uZXQvb2lkYy90b2tlbiIsImdyYW50X3R5cGUiOiJ1cm46aWJtOnBhcmFtczpvYXV0aDpncmFudC10eXBlOmFwaWtleSIsInNjb3BlIjoiaWJtIG9wZW5pZCIsImNsaWVudF9pZCI6ImJ4IiwiYWNyIjoxLCJhbXIiOlsicHdkIl19.GWEb5wc-ilU1AMnhcdMJGvMEjSA63jizf8HXRUXwSSpvWbcqsme9ZT8W_iSxjlNcV5KWpkAEb6OEyoZO7vMdm74ldPoKG1f07w6DWZ2lKv6IsIFa7E7KtB7tb09u-_XnKJ1gxzRUXsQyYeSPSrAZ7enVm56y_NuVA8NyqrERBSz-VwAu9G7yMhi32SN60pt2SXM06HBLWSU-u3Il493K4CP9sG2cS9u1OtgU0fwH9hz528A02_nzMXFQI4fDVZhx4FQ6QaU_MtQaQi48sASy522gds3Azoqrq2oD2XxgfLzXJh05O5CazG4vIxU9S5oG_r9GLJFTMo1xDnyXDh_Pvw\n"
     ]
    }
   ],
   "source": [
    "import requests\n",
    "\n",
    "# Paste your Watson Machine Learning service apikey here\n",
    "# Use the rest of the code sample as written\n",
    "apikey = \"fpZct_0oLE5lZCQdG2GC2_dwxUF102iTabqXfYBMi7yZ\"\n",
    "\n",
    "# Get an IAM token from IBM Cloud\n",
    "url     = \"https://iam.bluemix.net/oidc/token\"\n",
    "headers = { \"Content-Type\" : \"application/x-www-form-urlencoded\" }\n",
    "data    = \"apikey=\" + apikey + \"&grant_type=urn:ibm:params:oauth:grant-type:apikey\"\n",
    "IBM_cloud_IAM_uid = \"bx\"\n",
    "IBM_cloud_IAM_pwd = \"bx\"\n",
    "response  = requests.post( url, headers=headers, data=data, auth=( IBM_cloud_IAM_uid, IBM_cloud_IAM_pwd ) )\n",
    "iam_token = response.json()[\"access_token\"]\n",
    "print(iam_token)"
   ]
  },
  {
   "cell_type": "code",
   "execution_count": 20,
   "metadata": {},
   "outputs": [
    {
     "name": "stdout",
     "output_type": "stream",
     "text": [
      "Scoring response\n",
      "{'predictions': [{'fields': ['prediction', 'probability'], 'values': [['Iris-versicolor', [0.012935725972056389, 0.969626784324646, 0.017437443137168884]], ['Iris-setosa', [0.9185556769371033, 0.014509966596961021, 0.06693430244922638]]]}]}\n"
     ]
    }
   ],
   "source": [
    "import urllib3, requests, json\n",
    "ml_instance_id = \"e75c9090-147c-496c-be68-1934d2c7b38e\"\n",
    "# NOTE: generate iam_token and retrieve ml_instance_id based on provided documentation\t\n",
    "header = {'Content-Type': 'application/json', 'Authorization': 'Bearer ' + iam_token, 'ML-Instance-ID': ml_instance_id}\n",
    "\n",
    "# NOTE: manually define and pass the array(s) of values to be scored in the next line\n",
    "payload_scoring = {\"input_data\": [{\"fields\": [\"Sepal_length\", \"Sepal_width\", \"Petal_length\", \"Petal_width\"], \"values\": [[0,0,3.5,1],[0,0,1,2]]}]}\n",
    "\n",
    "response_scoring = requests.post('https://eu-gb.ml.cloud.ibm.com/v4/deployments/a3d1e373-78bb-4356-a913-5c02f5432040/predictions', json=payload_scoring, headers=header)\n",
    "print(\"Scoring response\")\n",
    "print(json.loads(response_scoring.text))"
   ]
  },
  {
   "cell_type": "code",
   "execution_count": 23,
   "metadata": {},
   "outputs": [
    {
     "name": "stdout",
     "output_type": "stream",
     "text": [
      "Iris-versicolor\n"
     ]
    }
   ],
   "source": [
    "pred=(json.loads(response_scoring.text))\n",
    "print(pred['predictions'][0]['values'][0][0])"
   ]
  },
  {
   "cell_type": "code",
   "execution_count": 11,
   "metadata": {},
   "outputs": [
    {
     "name": "stdout",
     "output_type": "stream",
     "text": [
      "[{'fields': ['prediction', 'probability'], 'values': [['Iris-versicolor', [0.012935725972056389, 0.969626784324646, 0.017437443137168884]]]}]\n"
     ]
    }
   ],
   "source": [
    "print(pred['predictions'])"
   ]
  },
  {
   "cell_type": "code",
   "execution_count": 12,
   "metadata": {},
   "outputs": [
    {
     "name": "stdout",
     "output_type": "stream",
     "text": [
      "{'fields': ['prediction', 'probability'], 'values': [['Iris-versicolor', [0.012935725972056389, 0.969626784324646, 0.017437443137168884]]]}\n"
     ]
    }
   ],
   "source": [
    "print(pred['predictions'][0])"
   ]
  },
  {
   "cell_type": "code",
   "execution_count": 14,
   "metadata": {},
   "outputs": [
    {
     "name": "stdout",
     "output_type": "stream",
     "text": [
      "['Iris-versicolor', [0.012935725972056389, 0.969626784324646, 0.017437443137168884]]\n"
     ]
    }
   ],
   "source": [
    "print(pred['predictions'][0]['values'])"
   ]
  },
  {
   "cell_type": "code",
   "execution_count": 25,
   "metadata": {},
   "outputs": [
    {
     "name": "stdout",
     "output_type": "stream",
     "text": [
      "Iris-setosa\n"
     ]
    }
   ],
   "source": [
    "print(pred['predictions'][0]['values'][1][0])"
   ]
  },
  {
   "cell_type": "code",
   "execution_count": 26,
   "metadata": {},
   "outputs": [
    {
     "name": "stdout",
     "output_type": "stream",
     "text": [
      "Iris-versicolor\n"
     ]
    }
   ],
   "source": [
    "print(pred['predictions'][0]['values'][0][0])"
   ]
  },
  {
   "cell_type": "code",
   "execution_count": null,
   "metadata": {},
   "outputs": [],
   "source": []
  }
 ],
 "metadata": {
  "kernelspec": {
   "display_name": "Python 3",
   "language": "python",
   "name": "python3"
  },
  "language_info": {
   "codemirror_mode": {
    "name": "ipython",
    "version": 3
   },
   "file_extension": ".py",
   "mimetype": "text/x-python",
   "name": "python",
   "nbconvert_exporter": "python",
   "pygments_lexer": "ipython3",
   "version": "3.7.3"
  }
 },
 "nbformat": 4,
 "nbformat_minor": 2
}
