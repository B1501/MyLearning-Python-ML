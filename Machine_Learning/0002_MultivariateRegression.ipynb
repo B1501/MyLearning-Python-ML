{
 "cells": [
  {
   "cell_type": "markdown",
   "metadata": {},
   "source": [
    "## Multivariate Linear Regression\n",
    "=======\n",
    "\n",
    "Simple linear regression can be used to model a linear relationship between one response variable and one explanatory variable\n",
    "\n",
    "Predicting Pizza prices\n",
    "\n",
    "Here there are two explanaotory variable, pizza size and toppings\n"
   ]
  },
  {
   "cell_type": "code",
   "execution_count": 3,
   "metadata": {},
   "outputs": [
    {
     "data": {
      "image/png": "[encoded data removed]",
      "text/plain": [
       "<Figure size 432x288 with 1 Axes>"
      ]
     },
     "metadata": {
      "needs_background": "light"
     },
     "output_type": "display_data"
    },
    {
     "data": {
      "image/png": "[encoded data removed]",
      "text/plain": [
       "<Figure size 432x288 with 1 Axes>"
      ]
     },
     "metadata": {
      "needs_background": "light"
     },
     "output_type": "display_data"
    }
   ],
   "source": [
    "%matplotlib inline\n",
    "import matplotlib.pyplot as plt\n",
    "from mpl_toolkits.mplot3d import Axes3D\n",
    "\n",
    "PSize     = [6, 8, 10, 14, 18]\n",
    "PToppings = [2, 1, 0, 2, 0]\n",
    "PPrice    = [7, 9, 13, 17.5, 18]\n",
    "\n",
    "fig2 = plt.figure()\n",
    "plt.plot(PSize, PPrice, linestyle=\"None\", c='r', marker='o')\n",
    "plt.grid()\n",
    "plt.title(\"Size vs Price\")\n",
    "plt.show()\n",
    "\n",
    "fig3 = plt.figure()\n",
    "plt.plot(PToppings, PPrice, linestyle=\"None\", c='g', marker='o')\n",
    "plt.grid()\n",
    "plt.title(\"Toppings vs Price\")\n",
    "plt.show()"
   ]
  },
  {
   "cell_type": "code",
   "execution_count": 4,
   "metadata": {},
   "outputs": [
    {
     "data": {
      "text/html": [
       "<div>\n",
       "<style scoped>\n",
       "    .dataframe tbody tr th:only-of-type {\n",
       "        vertical-align: middle;\n",
       "    }\n",
       "\n",
       "    .dataframe tbody tr th {\n",
       "        vertical-align: top;\n",
       "    }\n",
       "\n",
       "    .dataframe thead th {\n",
       "        text-align: right;\n",
       "    }\n",
       "</style>\n",
       "<table border=\"1\" class=\"dataframe\">\n",
       "  <thead>\n",
       "    <tr style=\"text-align: right;\">\n",
       "      <th></th>\n",
       "      <th>Size</th>\n",
       "      <th>Toppings</th>\n",
       "      <th>Price</th>\n",
       "    </tr>\n",
       "  </thead>\n",
       "  <tbody>\n",
       "    <tr>\n",
       "      <th>0</th>\n",
       "      <td>6</td>\n",
       "      <td>2</td>\n",
       "      <td>7.0</td>\n",
       "    </tr>\n",
       "    <tr>\n",
       "      <th>1</th>\n",
       "      <td>8</td>\n",
       "      <td>1</td>\n",
       "      <td>9.0</td>\n",
       "    </tr>\n",
       "    <tr>\n",
       "      <th>2</th>\n",
       "      <td>10</td>\n",
       "      <td>0</td>\n",
       "      <td>13.0</td>\n",
       "    </tr>\n",
       "    <tr>\n",
       "      <th>3</th>\n",
       "      <td>14</td>\n",
       "      <td>2</td>\n",
       "      <td>17.5</td>\n",
       "    </tr>\n",
       "    <tr>\n",
       "      <th>4</th>\n",
       "      <td>18</td>\n",
       "      <td>0</td>\n",
       "      <td>18.0</td>\n",
       "    </tr>\n",
       "  </tbody>\n",
       "</table>\n",
       "</div>"
      ],
      "text/plain": [
       "   Size  Toppings  Price\n",
       "0     6         2    7.0\n",
       "1     8         1    9.0\n",
       "2    10         0   13.0\n",
       "3    14         2   17.5\n",
       "4    18         0   18.0"
      ]
     },
     "execution_count": 4,
     "metadata": {},
     "output_type": "execute_result"
    }
   ],
   "source": [
    "from sklearn.linear_model import LinearRegression\n",
    "import pandas as pd\n",
    "import numpy as np\n",
    "\n",
    "df = pd.DataFrame({\"Size\":PSize,\"Toppings\":PToppings,\"Price\":PPrice}, columns=[\"Size\", \"Toppings\", \"Price\"])\n",
    "df.head()"
   ]
  },
  {
   "cell_type": "code",
   "execution_count": 2,
   "metadata": {},
   "outputs": [
    {
     "data": {
      "image/png": "[encoded data removed]",
      "text/plain": [
       "<Figure size 432x288 with 1 Axes>"
      ]
     },
     "metadata": {
      "needs_background": "light"
     },
     "output_type": "display_data"
    }
   ],
   "source": [
    "# # Create and fit the model\n",
    "model = LinearRegression()\n",
    "model.fit(df[[\"Size\", \"Toppings\"]], df[\"Price\"] )\n",
    "\n",
    "Diameter = 10\n",
    "ToppingRange= [0, 4]\n",
    "data = [[Diameter, ToppingRange[0]],[Diameter, ToppingRange[1]]]\n",
    "\n",
    "# plt.plot(PToppings, PPrice, linestyle=\"None\", c='g', marker='o', label='Pizza Toppings')\n",
    "plt.plot(PSize, PPrice, linestyle='None', c='r', label='Pizza Size', marker='o')\n",
    "plt.plot(ToppingRange, model.predict(data), c='g', marker='o')\n",
    "\n",
    "SizeRange = [0, 17]\n",
    "Topping = 2\n",
    "data = [[Topping, SizeRange[0]],[Topping, SizeRange[1]]]\n",
    "\n",
    "plt.plot(SizeRange, model.predict(data), c='r', marker='o')\n",
    "plt.grid()\n",
    "plt.legend()\n",
    "plt.show()"
   ]
  },
  {
   "cell_type": "code",
   "execution_count": null,
   "metadata": {},
   "outputs": [],
   "source": [
    "DiameterSelection =  input(\"Enter Pizza Diameter : \")\n",
    "ToppingSelection =  input(\"Enter Toppings : \")\n",
    "\n",
    "print(\"Estimated Pizza Price {0:.2f}\".format(model.predict([[int(DiameterSelection), int(ToppingSelection)]])[0]))"
   ]
  },
  {
   "cell_type": "code",
   "execution_count": null,
   "metadata": {},
   "outputs": [],
   "source": []
  }
 ],
 "metadata": {
  "kernelspec": {
   "display_name": "Python 3",
   "language": "python",
   "name": "python3"
  },
  "language_info": {
   "codemirror_mode": {
    "name": "ipython",
    "version": 3
   },
   "file_extension": ".py",
   "mimetype": "text/x-python",
   "name": "python",
   "nbconvert_exporter": "python",
   "pygments_lexer": "ipython3",
   "version": "3.6.1"
  }
 },
 "nbformat": 4,
 "nbformat_minor": 2
}
